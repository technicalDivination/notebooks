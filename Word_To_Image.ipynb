{
  "cells": [
    {
      "cell_type": "markdown",
      "metadata": {
        "id": "view-in-github",
        "colab_type": "text"
      },
      "source": [
        "<a href=\"https://colab.research.google.com/github/technicalDivination/notebooks/blob/main/Word_To_Image.ipynb\" target=\"_parent\"><img src=\"https://colab.research.google.com/assets/colab-badge.svg\" alt=\"Open In Colab\"/></a>"
      ]
    },
    {
      "cell_type": "code",
      "execution_count": null,
      "metadata": {
        "colab": {
          "base_uri": "https://localhost:8080/"
        },
        "id": "UghY1at8g3Wq",
        "outputId": "349dc6f4-c0f0-4217-eba5-c529ec64ecf5"
      },
      "outputs": [
        {
          "output_type": "stream",
          "name": "stdout",
          "text": [
            "Cloning into 'Word-As-Image-Ar'...\n",
            "remote: Enumerating objects: 147, done.\u001b[K\n",
            "remote: Counting objects: 100% (82/82), done.\u001b[K\n",
            "remote: Compressing objects: 100% (49/49), done.\u001b[K\n",
            "remote: Total 147 (delta 47), reused 58 (delta 30), pack-reused 65\u001b[K\n",
            "Receiving objects: 100% (147/147), 939.53 KiB | 6.81 MiB/s, done.\n",
            "Resolving deltas: 100% (60/60), done.\n",
            "/content/Word-As-Image-Ar\n"
          ]
        }
      ],
      "source": [
        "!git clone https://github.com/BKHMSI/Word-As-Image-Ar.git\n",
        "%cd Word-As-Image-Ar"
      ]
    },
    {
      "cell_type": "code",
      "execution_count": null,
      "metadata": {
        "colab": {
          "base_uri": "https://localhost:8080/"
        },
        "id": "C7H2Z1lWhnwQ",
        "outputId": "d2db6a8d-0619-4a1d-d7d0-7d9ef3b2eb03"
      },
      "outputs": [
        {
          "output_type": "stream",
          "name": "stdout",
          "text": [
            "⏬ Downloading https://github.com/conda-forge/miniforge/releases/download/23.1.0-1/Mambaforge-23.1.0-1-Linux-x86_64.sh...\n",
            "📦 Installing...\n",
            "📌 Adjusting configuration...\n",
            "🩹 Patching environment...\n",
            "⏲ Done in 0:00:13\n",
            "🔁 Restarting kernel...\n"
          ]
        }
      ],
      "source": [
        "!pip install -q condacolab\n",
        "import condacolab\n",
        "condacolab.install()"
      ]
    },
    {
      "cell_type": "code",
      "execution_count": null,
      "metadata": {
        "colab": {
          "base_uri": "https://localhost:8080/"
        },
        "id": "QhVNsEeImecs",
        "outputId": "1af5151d-1bdf-46af-977a-e075bc5b6424"
      },
      "outputs": [
        {
          "output_type": "stream",
          "name": "stdout",
          "text": [
            "✨🍰✨ Everything looks OK!\n",
            "\n",
            "     active environment : None\n",
            "       user config file : /root/.condarc\n",
            " populated config files : /usr/local/.condarc\n",
            "          conda version : 23.1.0\n",
            "    conda-build version : not installed\n",
            "         python version : 3.10.10.final.0\n",
            "       virtual packages : __archspec=1=x86_64\n",
            "                          __cuda=12.0=0\n",
            "                          __glibc=2.31=0\n",
            "                          __linux=5.15.107=0\n",
            "                          __unix=0=0\n",
            "       base environment : /usr/local  (writable)\n",
            "      conda av data dir : /usr/local/etc/conda\n",
            "  conda av metadata url : None\n",
            "           channel URLs : https://conda.anaconda.org/conda-forge/linux-64\n",
            "                          https://conda.anaconda.org/conda-forge/noarch\n",
            "          package cache : /usr/local/pkgs\n",
            "                          /root/.conda/pkgs\n",
            "       envs directories : /usr/local/envs\n",
            "                          /root/.conda/envs\n",
            "               platform : linux-64\n",
            "             user-agent : conda/23.1.0 requests/2.28.2 CPython/3.10.10 Linux/5.15.107+ ubuntu/20.04.5 glibc/2.31\n",
            "                UID:GID : 0:0\n",
            "             netrc file : None\n",
            "           offline mode : False\n",
            "\n"
          ]
        }
      ],
      "source": [
        "import condacolab\n",
        "condacolab.check()\n",
        "!conda info"
      ]
    },
    {
      "cell_type": "code",
      "execution_count": null,
      "metadata": {
        "id": "FZnE3eEyhhJp"
      },
      "outputs": [],
      "source": [
        "%cd Word-As-Image-Ar\n",
        "!pip install torch==1.12.1+cu113 torchvision==0.13.1+cu113 --extra-index-url https://download.pytorch.org/whl/cu113\n",
        "!conda install -y numpy scikit-image\n",
        "!conda install -y -c anaconda cmake\n",
        "!conda install -y -c conda-forge ffmpeg\n",
        "!pip install svgwrite svgpathtools cssutils numba torch-tools scikit-fmm easydict visdom freetype-py shapely\n",
        "!pip install opencv-python==4.5.4.60  \n",
        "!pip install kornia==0.6.8\n",
        "!pip install wandb\n",
        "!pip install shapely vharfbuzz\n",
        "!pip install diffusers==0.8\n",
        "!pip install easydict matplotlib\n",
        "!pip install transformers scipy ftfy accelerate\n",
        "!git clone https://github.com/BachiLi/diffvg.git"
      ]
    },
    {
      "cell_type": "code",
      "execution_count": null,
      "metadata": {
        "id": "nmCHa83Jhw3M"
      },
      "outputs": [],
      "source": [
        "%cd diffvg\n",
        "!git submodule update --init --recursive\n",
        "!python setup.py install"
      ]
    },
    {
      "cell_type": "code",
      "execution_count": null,
      "metadata": {
        "id": "5IcU91SQsNOI"
      },
      "outputs": [],
      "source": [
        "%cd ../code/data/arabic-fonts\n",
        "!bash dl-fonts.sh\n",
        "%cd ../../.."
      ]
    },
    {
      "cell_type": "code",
      "execution_count": null,
      "metadata": {
        "id": "LI15vNImixmE"
      },
      "outputs": [],
      "source": [
        "animal_names = [\n",
        "  {\"english\": \"cat\", \"arabic\": \"قطة\"},\n",
        "  {\"english\": \"Elephant\", \"arabic\": \"فيل\"},\n",
        "  {\"english\": \"Lion\", \"arabic\": \"أسد\"},\n",
        "  {\"english\": \"Tiger\", \"arabic\": \"نمر\"},\n",
        "  {\"english\": \"Cheetah\", \"arabic\": \"فهد\"},\n",
        "  {\"english\": \"Monkey\", \"arabic\": \"قرد\"},\n",
        "  {\"english\": \"Penguin\", \"arabic\": \"بطريق\"},\n",
        "  {\"english\": \"Kangaroo\", \"arabic\": \"كنغر\"},\n",
        "  {\"english\": \"Fox\", \"arabic\": \"ثعلب\"},\n",
        "  {\"english\": \"Eagle\", \"arabic\": \"نسر\"},\n",
        "  {\"english\": \"Wolf\", \"arabic\": \"ذئب\"},\n",
        "  {\"english\": \"Turtle\", \"arabic\": \"سلحفاة\"},\n",
        "  {\"english\": \"Panda\", \"arabic\": \"باندا\"},\n",
        "  {\"english\": \"Giraffe\", \"arabic\": \"زرافة\"},\n",
        "  {\"english\": \"Octopus\", \"arabic\": \"أخطبوط\"},\n",
        "  {\"english\": \"Crocodile\", \"arabic\": \"تمساح\"},\n",
        "  {\"english\": \"Butterfly\", \"arabic\": \"فراشة\"},\n",
        "  {\"english\": \"Snake\", \"arabic\": \"ثعبان\"},\n",
        "  {\"english\": \"Owl\", \"arabic\": \"بومة\"},\n",
        "  {\"english\": \"Swan\", \"arabic\": \"بجعة\"},\n",
        "  {\"english\": \"Duck\", \"arabic\": \"بطة\"},\n",
        "  {\"english\": \"Cow\", \"arabic\": \"بقرة\"},\n",
        "  {\"english\": \"Dog\", \"arabic\": \"كلب\"},\n",
        "  {\"english\": \"Goat\", \"arabic\": \"ماعز\"},\n",
        "  {\"english\": \"Rabbit\", \"arabic\": \"أرنب\"},\n",
        "  {\"english\": \"Mouse\", \"arabic\": \"فأر\"},\n",
        "  {\"english\": \"Shark\", \"arabic\": \"قرش\"},\n",
        "  {\"english\": \"Horse\", \"arabic\": \"حصان\"},\n",
        "  {\"english\": \"Dolphin\", \"arabic\": \"درفيل\"},\n",
        "  {\"english\": \"Camel\", \"arabic\": \"جمل\"},\n",
        "]"
      ]
    },
    {
      "cell_type": "code",
      "execution_count": null,
      "metadata": {
        "id": "K5NSXk5EsZh9"
      },
      "outputs": [],
      "source": [
        "seed = 42\n",
        "experiment = \"Animals\"\n",
        "font = \"ArefRuqaa\"\n",
        "prompt_suffix = \"minimal flat 2d vector. lineal color. trending on artstation\"\n",
        "for row in animal_names[:2]:\n",
        "  print(row)\n",
        "  word = row[\"arabic\"]\n",
        "  concept = row[\"english\"]\n",
        "  !python code/main.py --experiment $experiment --semantic_concept \"$concept\" --optimized_letter $word --word $word --seed $seed --prompt_suffix $prompt_suffix --font $font --use_wandb 0\n"
      ]
    },
    {
      "cell_type": "code",
      "execution_count": null,
      "metadata": {
        "colab": {
          "base_uri": "https://localhost:8080/",
          "height": 35
        },
        "id": "jA6d-xRnurdd",
        "outputId": "d36a827e-a391-4b47-b57b-bc3918553909"
      },
      "outputs": [
        {
          "name": "stdout",
          "output_type": "stream",
          "text": [
            "output/Arabic-Ruqaa_قطة/04/04_قطة_scaled_concept_cat_seed_42/video.mp4\n"
          ]
        },
        {
          "data": {
            "application/javascript": [
              "\n",
              "    async function download(id, filename, size) {\n",
              "      if (!google.colab.kernel.accessAllowed) {\n",
              "        return;\n",
              "      }\n",
              "      const div = document.createElement('div');\n",
              "      const label = document.createElement('label');\n",
              "      label.textContent = `Downloading \"${filename}\": `;\n",
              "      div.appendChild(label);\n",
              "      const progress = document.createElement('progress');\n",
              "      progress.max = size;\n",
              "      div.appendChild(progress);\n",
              "      document.body.appendChild(div);\n",
              "\n",
              "      const buffers = [];\n",
              "      let downloaded = 0;\n",
              "\n",
              "      const channel = await google.colab.kernel.comms.open(id);\n",
              "      // Send a message to notify the kernel that we're ready.\n",
              "      channel.send({})\n",
              "\n",
              "      for await (const message of channel.messages) {\n",
              "        // Send a message to notify the kernel that we're ready.\n",
              "        channel.send({})\n",
              "        if (message.buffers) {\n",
              "          for (const buffer of message.buffers) {\n",
              "            buffers.push(buffer);\n",
              "            downloaded += buffer.byteLength;\n",
              "            progress.value = downloaded;\n",
              "          }\n",
              "        }\n",
              "      }\n",
              "      const blob = new Blob(buffers, {type: 'application/binary'});\n",
              "      const a = document.createElement('a');\n",
              "      a.href = window.URL.createObjectURL(blob);\n",
              "      a.download = filename;\n",
              "      div.appendChild(a);\n",
              "      a.click();\n",
              "      div.remove();\n",
              "    }\n",
              "  "
            ],
            "text/plain": [
              "<IPython.core.display.Javascript object>"
            ]
          },
          "metadata": {},
          "output_type": "display_data"
        },
        {
          "data": {
            "application/javascript": [
              "download(\"download_bcc09813-20fa-4b42-9547-4b8423bdd2f8\", \"video.mp4\", 6659176)"
            ],
            "text/plain": [
              "<IPython.core.display.Javascript object>"
            ]
          },
          "metadata": {},
          "output_type": "display_data"
        }
      ],
      "source": [
        "import os\n",
        "from google.colab import files\n",
        "word = animal_names[0][\"arabic\"]\n",
        "concept = animal_names[0][\"english\"]\n",
        "font = \"04\"\n",
        "experiment = \"Arabic-Ruqaa\"\n",
        "path = os.path.join(\"output\", f\"{experiment}_{word}\", font, f\"{font}_{word}_scaled_concept_{concept}_seed_{seed}\", \"video.mp4\")\n",
        "files.download(path) \n"
      ]
    },
    {
      "cell_type": "code",
      "execution_count": null,
      "metadata": {
        "id": "fEyJaL2KtIPy"
      },
      "outputs": [],
      "source": [
        "import imageio\n",
        "from glob import glob\n",
        "filenames = sorted(glob(f\"./output/Arabic-Ruqaa_{word}/ArefRuqaa/ArefRuqaa_{letter}_scaled_concept_{concept}_seed_{seed}/video-png/*.png\"))\n",
        "images = []\n",
        "skip = 1\n",
        "for i, filename in enumerate(filenames):\n",
        "    if i % skip == 0:\n",
        "      images.append(imageio.imread(filename))\n",
        "imageio.mimsave(f'./output/{concept}_{skip}.gif', images)"
      ]
    }
  ],
  "metadata": {
    "accelerator": "GPU",
    "colab": {
      "provenance": [],
      "include_colab_link": true
    },
    "gpuClass": "standard",
    "kernelspec": {
      "display_name": "Python 3",
      "name": "python3"
    },
    "language_info": {
      "name": "python"
    }
  },
  "nbformat": 4,
  "nbformat_minor": 0
}